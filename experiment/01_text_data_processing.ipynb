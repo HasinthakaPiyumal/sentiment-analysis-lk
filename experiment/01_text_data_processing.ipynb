{
 "cells": [
  {
   "cell_type": "code",
   "execution_count": 2,
   "id": "add3db2b",
   "metadata": {},
   "outputs": [],
   "source": [
    "import pandas as pd\n",
    "from sklearn.model_selection import train_test_split\n",
    "from app.utils.text_utils import clean_comment,emoji_to_text"
   ]
  },
  {
   "cell_type": "code",
   "execution_count": 3,
   "id": "d6e9f469",
   "metadata": {},
   "outputs": [],
   "source": [
    "data = pd.read_csv('../data/youtube_comments.csv', on_bad_lines='skip')"
   ]
  },
  {
   "cell_type": "code",
   "execution_count": 3,
   "id": "35e4e1ea",
   "metadata": {},
   "outputs": [
    {
     "data": {
      "text/plain": [
       "(2520, 2)"
      ]
     },
     "execution_count": 3,
     "metadata": {},
     "output_type": "execute_result"
    }
   ],
   "source": [
    "data.shape"
   ]
  },
  {
   "cell_type": "code",
   "execution_count": 4,
   "id": "011d27aa",
   "metadata": {},
   "outputs": [
    {
     "data": {
      "text/plain": [
       "'අදත් සුපිරියක් තමයි ඊලග කොටසත් ඉක්මනින් ඕනේ ❤️👀'"
      ]
     },
     "execution_count": 4,
     "metadata": {},
     "output_type": "execute_result"
    }
   ],
   "source": [
    "data['text'].iloc[1195]"
   ]
  },
  {
   "cell_type": "code",
   "execution_count": 3,
   "id": "97904a7c",
   "metadata": {},
   "outputs": [
    {
     "data": {
      "text/plain": [
       "'thank u red_heart puluwan hamadama try karannam video ekak danna red_heart red_heart smiling_face'"
      ]
     },
     "execution_count": 3,
     "metadata": {},
     "output_type": "execute_result"
    }
   ],
   "source": [
    "clean_comment(emoji_to_text(data['text'].iloc[527]))"
   ]
  },
  {
   "cell_type": "code",
   "execution_count": 10,
   "id": "097f9ed7",
   "metadata": {},
   "outputs": [
    {
     "data": {
      "text/html": [
       "<div>\n",
       "<style scoped>\n",
       "    .dataframe tbody tr th:only-of-type {\n",
       "        vertical-align: middle;\n",
       "    }\n",
       "\n",
       "    .dataframe tbody tr th {\n",
       "        vertical-align: top;\n",
       "    }\n",
       "\n",
       "    .dataframe thead th {\n",
       "        text-align: right;\n",
       "    }\n",
       "</style>\n",
       "<table border=\"1\" class=\"dataframe\">\n",
       "  <thead>\n",
       "    <tr style=\"text-align: right;\">\n",
       "      <th></th>\n",
       "      <th>text</th>\n",
       "      <th>class</th>\n",
       "    </tr>\n",
       "  </thead>\n",
       "  <tbody>\n",
       "    <tr>\n",
       "      <th>1121</th>\n",
       "      <td>Yesssss</td>\n",
       "      <td>positive</td>\n",
       "    </tr>\n",
       "    <tr>\n",
       "      <th>2209</th>\n",
       "      <td>අනේ මේ වගේ තවත් film දෙන්නකෝ B2V. ඔයාල තමයි හොඳම.</td>\n",
       "      <td>positive</td>\n",
       "    </tr>\n",
       "    <tr>\n",
       "      <th>892</th>\n",
       "      <td>අඩො මාත් බත් කද්දි බලන්නෙ මෙ වීඩියො තමි</td>\n",
       "      <td>positive</td>\n",
       "    </tr>\n",
       "    <tr>\n",
       "      <th>1489</th>\n",
       "      <td>ෆිගාරෝ කෑම හොදයී🎉❤</td>\n",
       "      <td>positive</td>\n",
       "    </tr>\n",
       "    <tr>\n",
       "      <th>2081</th>\n",
       "      <td>Me too ❤❤</td>\n",
       "      <td>positive</td>\n",
       "    </tr>\n",
       "    <tr>\n",
       "      <th>...</th>\n",
       "      <td>...</td>\n",
       "      <td>...</td>\n",
       "    </tr>\n",
       "    <tr>\n",
       "      <th>212</th>\n",
       "      <td>ඔය එකමගුලක්වත් වැඩක් නෑ සේනක දූල්ලෑවෙ මැරුවෙ ක...</td>\n",
       "      <td>negative</td>\n",
       "    </tr>\n",
       "    <tr>\n",
       "      <th>1195</th>\n",
       "      <td>අදත් සුපිරියක් තමයි ඊලග කොටසත් ඉක්මනින් ඕනේ ❤️👀</td>\n",
       "      <td>positive</td>\n",
       "    </tr>\n",
       "    <tr>\n",
       "      <th>1638</th>\n",
       "      <td>@RandiJeewanath එහෙම නෑ ඒත් අවම 1000 න් වත් පට...</td>\n",
       "      <td>neutral</td>\n",
       "    </tr>\n",
       "    <tr>\n",
       "      <th>527</th>\n",
       "      <td>Thank u... ❤️ puluwan hamadama try karannam vi...</td>\n",
       "      <td>positive</td>\n",
       "    </tr>\n",
       "    <tr>\n",
       "      <th>1594</th>\n",
       "      <td>මොනවද මේ කොටස් කියලා දන්නැතුව හිටියේ...පැහැදිල...</td>\n",
       "      <td>positive</td>\n",
       "    </tr>\n",
       "  </tbody>\n",
       "</table>\n",
       "<p>100 rows × 2 columns</p>\n",
       "</div>"
      ],
      "text/plain": [
       "                                                   text     class\n",
       "1121                                            Yesssss  positive\n",
       "2209  අනේ මේ වගේ තවත් film දෙන්නකෝ B2V. ඔයාල තමයි හොඳම.  positive\n",
       "892             අඩො මාත් බත් කද්දි බලන්නෙ මෙ වීඩියො තමි  positive\n",
       "1489                                 ෆිගාරෝ කෑම හොදයී🎉❤  positive\n",
       "2081                                          Me too ❤❤  positive\n",
       "...                                                 ...       ...\n",
       "212   ඔය එකමගුලක්වත් වැඩක් නෑ සේනක දූල්ලෑවෙ මැරුවෙ ක...  negative\n",
       "1195    අදත් සුපිරියක් තමයි ඊලග කොටසත් ඉක්මනින් ඕනේ ❤️👀  positive\n",
       "1638  @RandiJeewanath එහෙම නෑ ඒත් අවම 1000 න් වත් පට...   neutral\n",
       "527   Thank u... ❤️ puluwan hamadama try karannam vi...  positive\n",
       "1594  මොනවද මේ කොටස් කියලා දන්නැතුව හිටියේ...පැහැදිල...  positive\n",
       "\n",
       "[100 rows x 2 columns]"
      ]
     },
     "execution_count": 10,
     "metadata": {},
     "output_type": "execute_result"
    }
   ],
   "source": [
    "data.sample(100)"
   ]
  },
  {
   "cell_type": "code",
   "execution_count": 44,
   "id": "925a493c",
   "metadata": {},
   "outputs": [],
   "source": [
    "# Clean the text data by converting emojis to text and applying additional cleaning\n",
    "cleaned_data = data.copy()\n",
    "cleaned_data['text'] = data['text'].apply(emoji_to_text).apply(clean_comment)\n",
    "cleaned_data = cleaned_data[cleaned_data['text'].str.strip() != '']  # Remove empty comments \n",
    "cleaned_data = cleaned_data[cleaned_data['text'].str.strip().str.len()>3]\n",
    "cleaned_data.dropna(inplace=True)"
   ]
  },
  {
   "cell_type": "code",
   "execution_count": 45,
   "id": "20828a46",
   "metadata": {},
   "outputs": [
    {
     "data": {
      "text/plain": [
       "text     0\n",
       "class    0\n",
       "dtype: int64"
      ]
     },
     "execution_count": 45,
     "metadata": {},
     "output_type": "execute_result"
    }
   ],
   "source": [
    "cleaned_data.isnull().sum()"
   ]
  },
  {
   "cell_type": "code",
   "execution_count": 46,
   "id": "31e55be2",
   "metadata": {},
   "outputs": [],
   "source": [
    "def class_to_int(label_series):\n",
    "    label_map = {\n",
    "        \"negative\": 0,\n",
    "        \"neutral\": 1,\n",
    "        \"positive\": 2\n",
    "    }\n",
    "    return label_series.map(label_map)"
   ]
  },
  {
   "cell_type": "code",
   "execution_count": 47,
   "id": "cd123067",
   "metadata": {},
   "outputs": [
    {
     "name": "stdout",
     "output_type": "stream",
     "text": [
      "['neutral' 'negative' 'positive']\n"
     ]
    }
   ],
   "source": [
    "print(cleaned_data['class'].unique())"
   ]
  },
  {
   "cell_type": "code",
   "execution_count": 48,
   "id": "9dd9f0b9",
   "metadata": {},
   "outputs": [],
   "source": [
    "cleaned_data['class'] = class_to_int(cleaned_data['class']).astype(int)\n"
   ]
  },
  {
   "cell_type": "code",
   "execution_count": 49,
   "id": "55859a61",
   "metadata": {},
   "outputs": [
    {
     "data": {
      "text/html": [
       "<div>\n",
       "<style scoped>\n",
       "    .dataframe tbody tr th:only-of-type {\n",
       "        vertical-align: middle;\n",
       "    }\n",
       "\n",
       "    .dataframe tbody tr th {\n",
       "        vertical-align: top;\n",
       "    }\n",
       "\n",
       "    .dataframe thead th {\n",
       "        text-align: right;\n",
       "    }\n",
       "</style>\n",
       "<table border=\"1\" class=\"dataframe\">\n",
       "  <thead>\n",
       "    <tr style=\"text-align: right;\">\n",
       "      <th></th>\n",
       "      <th>text</th>\n",
       "      <th>class</th>\n",
       "    </tr>\n",
       "  </thead>\n",
       "  <tbody>\n",
       "    <tr>\n",
       "      <th>1300</th>\n",
       "      <td>math</td>\n",
       "      <td>1</td>\n",
       "    </tr>\n",
       "    <tr>\n",
       "      <th>1827</th>\n",
       "      <td>ඈ face_with_tears_of_joy rolling_on_the_floor_...</td>\n",
       "      <td>1</td>\n",
       "    </tr>\n",
       "    <tr>\n",
       "      <th>1625</th>\n",
       "      <td>කොටස් වෙළෙඳපොළ ගැන අනිත් video ටිකත් ඉක්මනට ඕන</td>\n",
       "      <td>1</td>\n",
       "    </tr>\n",
       "    <tr>\n",
       "      <th>178</th>\n",
       "      <td>කතාවකට වුනත් සුමන්ගල හදන්නනේ ගමක් විනාස කරන්න ...</td>\n",
       "      <td>0</td>\n",
       "    </tr>\n",
       "    <tr>\n",
       "      <th>73</th>\n",
       "      <td>දන්නෙම නැතුව තව ටික කාලෙකින් m ගහන කපටි කොටා r...</td>\n",
       "      <td>2</td>\n",
       "    </tr>\n",
       "    <tr>\n",
       "      <th>...</th>\n",
       "      <td>...</td>\n",
       "      <td>...</td>\n",
       "    </tr>\n",
       "    <tr>\n",
       "      <th>1763</th>\n",
       "      <td>කොටා වගේ හොද තැනකට එන්න ඕනේ red_heart red_hear...</td>\n",
       "      <td>2</td>\n",
       "    </tr>\n",
       "    <tr>\n",
       "      <th>2460</th>\n",
       "      <td>ඔයාලට දැන් අලුතෙන් හිතන්න බෑ වගේ</td>\n",
       "      <td>0</td>\n",
       "    </tr>\n",
       "    <tr>\n",
       "      <th>1726</th>\n",
       "      <td>face_with_tears_of_joy face_with_tears_of_joy ...</td>\n",
       "      <td>0</td>\n",
       "    </tr>\n",
       "    <tr>\n",
       "      <th>1864</th>\n",
       "      <td>supiriyak nam sandu and bv red_heart</td>\n",
       "      <td>2</td>\n",
       "    </tr>\n",
       "    <tr>\n",
       "      <th>269</th>\n",
       "      <td>මුගෙ ගම්බාර අප්පාච්චි මුගෙ මල්ලිනෙ බොල face_wi...</td>\n",
       "      <td>2</td>\n",
       "    </tr>\n",
       "  </tbody>\n",
       "</table>\n",
       "<p>100 rows × 2 columns</p>\n",
       "</div>"
      ],
      "text/plain": [
       "                                                   text  class\n",
       "1300                                               math      1\n",
       "1827  ඈ face_with_tears_of_joy rolling_on_the_floor_...      1\n",
       "1625     කොටස් වෙළෙඳපොළ ගැන අනිත් video ටිකත් ඉක්මනට ඕන      1\n",
       "178   කතාවකට වුනත් සුමන්ගල හදන්නනේ ගමක් විනාස කරන්න ...      0\n",
       "73    දන්නෙම නැතුව තව ටික කාලෙකින් m ගහන කපටි කොටා r...      2\n",
       "...                                                 ...    ...\n",
       "1763  කොටා වගේ හොද තැනකට එන්න ඕනේ red_heart red_hear...      2\n",
       "2460                   ඔයාලට දැන් අලුතෙන් හිතන්න බෑ වගේ      0\n",
       "1726  face_with_tears_of_joy face_with_tears_of_joy ...      0\n",
       "1864               supiriyak nam sandu and bv red_heart      2\n",
       "269   මුගෙ ගම්බාර අප්පාච්චි මුගෙ මල්ලිනෙ බොල face_wi...      2\n",
       "\n",
       "[100 rows x 2 columns]"
      ]
     },
     "execution_count": 49,
     "metadata": {},
     "output_type": "execute_result"
    }
   ],
   "source": [
    "cleaned_data.sample(100)"
   ]
  },
  {
   "cell_type": "code",
   "execution_count": 50,
   "id": "0b4121cb",
   "metadata": {},
   "outputs": [],
   "source": [
    "cleaned_data.rename(columns={'class': 'label'}, inplace=True)"
   ]
  },
  {
   "cell_type": "code",
   "execution_count": 51,
   "id": "b8e0742e",
   "metadata": {},
   "outputs": [],
   "source": [
    "train, test = train_test_split(cleaned_data, test_size=0.1, random_state=42, stratify=cleaned_data['label'])"
   ]
  },
  {
   "cell_type": "code",
   "execution_count": 59,
   "id": "2824d144",
   "metadata": {},
   "outputs": [
    {
     "data": {
      "text/html": [
       "<div>\n",
       "<style scoped>\n",
       "    .dataframe tbody tr th:only-of-type {\n",
       "        vertical-align: middle;\n",
       "    }\n",
       "\n",
       "    .dataframe tbody tr th {\n",
       "        vertical-align: top;\n",
       "    }\n",
       "\n",
       "    .dataframe thead th {\n",
       "        text-align: right;\n",
       "    }\n",
       "</style>\n",
       "<table border=\"1\" class=\"dataframe\">\n",
       "  <thead>\n",
       "    <tr style=\"text-align: right;\">\n",
       "      <th></th>\n",
       "      <th>text</th>\n",
       "      <th>label</th>\n",
       "    </tr>\n",
       "  </thead>\n",
       "  <tbody>\n",
       "    <tr>\n",
       "      <th>1403</th>\n",
       "      <td>excellent</td>\n",
       "      <td>2</td>\n",
       "    </tr>\n",
       "    <tr>\n",
       "      <th>840</th>\n",
       "      <td>not accent or content its absolutely candy rus...</td>\n",
       "      <td>0</td>\n",
       "    </tr>\n",
       "    <tr>\n",
       "      <th>755</th>\n",
       "      <td>oka therum gnna nathi ekane wde</td>\n",
       "      <td>0</td>\n",
       "    </tr>\n",
       "    <tr>\n",
       "      <th>1554</th>\n",
       "      <td>maru first comment red_heart</td>\n",
       "      <td>2</td>\n",
       "    </tr>\n",
       "    <tr>\n",
       "      <th>564</th>\n",
       "      <td>බිස්නස් වැටිලා තියෙන මේ කාලේ අප් කරලා ගන්න කිය...</td>\n",
       "      <td>2</td>\n",
       "    </tr>\n",
       "    <tr>\n",
       "      <th>353</th>\n",
       "      <td>ඔව් අනිවාර්යෙන්ම</td>\n",
       "      <td>2</td>\n",
       "    </tr>\n",
       "    <tr>\n",
       "      <th>1639</th>\n",
       "      <td>ඔයා කරන විදිය මට පොඩ්ඩක් විස්තර කරන්නකො</td>\n",
       "      <td>1</td>\n",
       "    </tr>\n",
       "    <tr>\n",
       "      <th>842</th>\n",
       "      <td>didnt know u guys find indian accent hard to d...</td>\n",
       "      <td>1</td>\n",
       "    </tr>\n",
       "    <tr>\n",
       "      <th>2477</th>\n",
       "      <td>මේකේ තියෙන සමහර වචන හරිම අපහාසාත්මකයි</td>\n",
       "      <td>0</td>\n",
       "    </tr>\n",
       "    <tr>\n",
       "      <th>20</th>\n",
       "      <td>face_with_open_mouth</td>\n",
       "      <td>1</td>\n",
       "    </tr>\n",
       "    <tr>\n",
       "      <th>2251</th>\n",
       "      <td>wasthi ge parana set eka ko dan inna un chater</td>\n",
       "      <td>0</td>\n",
       "    </tr>\n",
       "    <tr>\n",
       "      <th>2183</th>\n",
       "      <td>she deserves better stay strong akki you are a...</td>\n",
       "      <td>2</td>\n",
       "    </tr>\n",
       "    <tr>\n",
       "      <th>441</th>\n",
       "      <td>ben dipiyauuuu</td>\n",
       "      <td>0</td>\n",
       "    </tr>\n",
       "    <tr>\n",
       "      <th>1277</th>\n",
       "      <td>part ekmanata onee red_heart red_heart</td>\n",
       "      <td>1</td>\n",
       "    </tr>\n",
       "    <tr>\n",
       "      <th>760</th>\n",
       "      <td>for those judging and laughing at his accent t...</td>\n",
       "      <td>2</td>\n",
       "    </tr>\n",
       "    <tr>\n",
       "      <th>1284</th>\n",
       "      <td>මගේ ලමා කාලයට ආයේ මාව අරන් ගියා ඒ තැන් වල මාත්...</td>\n",
       "      <td>2</td>\n",
       "    </tr>\n",
       "    <tr>\n",
       "      <th>1902</th>\n",
       "      <td>red_heart red_heart red_heart red_heart red_he...</td>\n",
       "      <td>2</td>\n",
       "    </tr>\n",
       "    <tr>\n",
       "      <th>1760</th>\n",
       "      <td>මං කියන්නෙ තාමත් උබලා වැරදී face_with_tears_of...</td>\n",
       "      <td>2</td>\n",
       "    </tr>\n",
       "    <tr>\n",
       "      <th>2213</th>\n",
       "      <td>congratulations for m subs well deserved red_h...</td>\n",
       "      <td>2</td>\n",
       "    </tr>\n",
       "    <tr>\n",
       "      <th>1025</th>\n",
       "      <td>first comment</td>\n",
       "      <td>1</td>\n",
       "    </tr>\n",
       "    <tr>\n",
       "      <th>717</th>\n",
       "      <td>yako paminillak danna athi kawuru hri natnm po...</td>\n",
       "      <td>0</td>\n",
       "    </tr>\n",
       "    <tr>\n",
       "      <th>1579</th>\n",
       "      <td>සර් මේක මමත් කාලයක් හෙව්ව දෙයක් red_heart red_...</td>\n",
       "      <td>2</td>\n",
       "    </tr>\n",
       "  </tbody>\n",
       "</table>\n",
       "</div>"
      ],
      "text/plain": [
       "                                                   text  label\n",
       "1403                                          excellent      2\n",
       "840   not accent or content its absolutely candy rus...      0\n",
       "755                     oka therum gnna nathi ekane wde      0\n",
       "1554                       maru first comment red_heart      2\n",
       "564   බිස්නස් වැටිලා තියෙන මේ කාලේ අප් කරලා ගන්න කිය...      2\n",
       "353                                    ඔව් අනිවාර්යෙන්ම      2\n",
       "1639            ඔයා කරන විදිය මට පොඩ්ඩක් විස්තර කරන්නකො      1\n",
       "842   didnt know u guys find indian accent hard to d...      1\n",
       "2477              මේකේ තියෙන සමහර වචන හරිම අපහාසාත්මකයි      0\n",
       "20                                 face_with_open_mouth      1\n",
       "2251     wasthi ge parana set eka ko dan inna un chater      0\n",
       "2183  she deserves better stay strong akki you are a...      2\n",
       "441                                      ben dipiyauuuu      0\n",
       "1277             part ekmanata onee red_heart red_heart      1\n",
       "760   for those judging and laughing at his accent t...      2\n",
       "1284  මගේ ලමා කාලයට ආයේ මාව අරන් ගියා ඒ තැන් වල මාත්...      2\n",
       "1902  red_heart red_heart red_heart red_heart red_he...      2\n",
       "1760  මං කියන්නෙ තාමත් උබලා වැරදී face_with_tears_of...      2\n",
       "2213  congratulations for m subs well deserved red_h...      2\n",
       "1025                                      first comment      1\n",
       "717   yako paminillak danna athi kawuru hri natnm po...      0\n",
       "1579  සර් මේක මමත් කාලයක් හෙව්ව දෙයක් red_heart red_...      2"
      ]
     },
     "execution_count": 59,
     "metadata": {},
     "output_type": "execute_result"
    }
   ],
   "source": [
    "test.sample(22)"
   ]
  },
  {
   "cell_type": "code",
   "execution_count": 53,
   "id": "b0d92883",
   "metadata": {},
   "outputs": [],
   "source": [
    "train.to_csv('../data/train.csv', index=False)\n",
    "test.to_csv('../data/test.csv', index=False)"
   ]
  },
  {
   "cell_type": "code",
   "execution_count": 54,
   "id": "f3360bba",
   "metadata": {},
   "outputs": [
    {
     "data": {
      "text/html": [
       "<div>\n",
       "<style scoped>\n",
       "    .dataframe tbody tr th:only-of-type {\n",
       "        vertical-align: middle;\n",
       "    }\n",
       "\n",
       "    .dataframe tbody tr th {\n",
       "        vertical-align: top;\n",
       "    }\n",
       "\n",
       "    .dataframe thead th {\n",
       "        text-align: right;\n",
       "    }\n",
       "</style>\n",
       "<table border=\"1\" class=\"dataframe\">\n",
       "  <thead>\n",
       "    <tr style=\"text-align: right;\">\n",
       "      <th></th>\n",
       "      <th>text</th>\n",
       "      <th>label</th>\n",
       "    </tr>\n",
       "  </thead>\n",
       "  <tbody>\n",
       "  </tbody>\n",
       "</table>\n",
       "</div>"
      ],
      "text/plain": [
       "Empty DataFrame\n",
       "Columns: [text, label]\n",
       "Index: []"
      ]
     },
     "execution_count": 54,
     "metadata": {},
     "output_type": "execute_result"
    }
   ],
   "source": [
    "cleaned_data[cleaned_data['text'].str.len()<2]"
   ]
  },
  {
   "cell_type": "code",
   "execution_count": null,
   "id": "af20ae73",
   "metadata": {},
   "outputs": [],
   "source": []
  }
 ],
 "metadata": {
  "kernelspec": {
   "display_name": "mlops",
   "language": "python",
   "name": "python3"
  },
  "language_info": {
   "codemirror_mode": {
    "name": "ipython",
    "version": 3
   },
   "file_extension": ".py",
   "mimetype": "text/x-python",
   "name": "python",
   "nbconvert_exporter": "python",
   "pygments_lexer": "ipython3",
   "version": "3.11.13"
  }
 },
 "nbformat": 4,
 "nbformat_minor": 5
}
